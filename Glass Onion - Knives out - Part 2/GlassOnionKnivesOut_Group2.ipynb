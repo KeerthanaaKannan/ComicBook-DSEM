{
 "cells": [
  {
   "cell_type": "markdown",
   "id": "0ceafd87",
   "metadata": {},
   "source": [
    "# INFO6105: Assignment 4 - Making your own Comic Book!"
   ]
  },
  {
   "cell_type": "markdown",
   "id": "067a2b11",
   "metadata": {},
   "source": [
    "## The notebook follows the given order to create a comic book:\n",
    "\n",
    "1. Import all required libraries\n",
    "2. Resize Images\n",
    "3. Add Border\n",
    "4. Transforming the images into cartoon-type images and adding dailogues\n",
    "3. Horizontally stitch the images\n",
    "4. Vertically stitch the horizontal strips to form single images\n",
    "5. Join these single final page images into a PDF"
   ]
  },
  {
   "cell_type": "code",
   "execution_count": 11,
   "id": "d6ede756",
   "metadata": {},
   "outputs": [],
   "source": [
    "import os\n",
    "import numpy as np\n",
    "from PIL import Image ,ImageOps, ImageFont, ImageDraw\n",
    "import pandas as pd\n",
    "import cv2\n",
    "from IPython.display import display\n",
    "\n",
    "from fpdf import FPDF\n"
   ]
  },
  {
   "cell_type": "code",
   "execution_count": 12,
   "id": "e95053fc",
   "metadata": {},
   "outputs": [],
   "source": [
    "#Change to your local path to Avoid error\n",
    "path = '/Users/mrunalbhalerao/Desktop/ Data Science/HW/Glass Onion - Knives out - Part 2/'"
   ]
  },
  {
   "cell_type": "code",
   "execution_count": 13,
   "id": "58cbbf74",
   "metadata": {},
   "outputs": [],
   "source": [
    "fullpath=path+\"/images-raw/\"\n",
    "dirs = os.listdir(fullpath)\n",
    "\n",
    "#resize the images\n",
    "def resize():\n",
    "        for item in dirs: \n",
    "            if os.path.isfile(fullpath+item):\n",
    "                if(item!='.DS_Store'):                                       \n",
    "                    im = Image.open(fullpath+item)\n",
    "                    f, e = os.path.splitext(fullpath+item)\n",
    "                    imResize = im.resize((750,450), Image.ANTIALIAS)\n",
    "                    imResize.save(f + '.jpg', quality=90)"
   ]
  },
  {
   "cell_type": "code",
   "execution_count": 14,
   "id": "cd6f173a",
   "metadata": {},
   "outputs": [],
   "source": [
    "def imgcompress_mem(path_in,k):\n",
    "    img = cv2.imread(path_in, cv2.IMREAD_UNCHANGED)\n",
    "\n",
    "    # set the ratio of resized image\n",
    "    width = int((img.shape[1])/2)\n",
    "    height = int((img.shape[0])/2)\n",
    "\n",
    "    # resize the image by resize() function of openCV library\n",
    "    return cv2.resize(img, (width, height), interpolation=cv2.INTER_AREA)"
   ]
  },
  {
   "cell_type": "code",
   "execution_count": 15,
   "id": "ee5797ce",
   "metadata": {},
   "outputs": [],
   "source": [
    "def cartoonizebl_mem(path_in, k, blur, line):\n",
    "    \n",
    "    imgc = imgcompress_mem(path_in,k)\n",
    "    #imgc_pil = cv2.cvtColor(imgc, cv2.COLOR_BGR2RGB) # Converting BGR to RGB\n",
    "    #display(Image.fromarray(imgc_pil))\n",
    "\n",
    "    line_size = line\n",
    "    blur_value = blur\n",
    "    #imgc = cv2.imread(path_out, cv2.IMREAD_UNCHANGED)\n",
    "    gray = cv2.cvtColor(imgc, cv2.COLOR_BGR2GRAY)\n",
    "    gray_blur = cv2.medianBlur(gray, blur_value)\n",
    "    bigedges = cv2.adaptiveThreshold(gray_blur, 255, cv2.ADAPTIVE_THRESH_MEAN_C, cv2.THRESH_BINARY, line_size, blur_value)\n",
    "    bigedges_pil = cv2.cvtColor(bigedges, cv2.COLOR_BGR2RGB) # Converting BGR to RGB\n",
    "    #display(Image.fromarray(bigedges_pil))\n",
    "\n",
    "    return cv2.bitwise_and(imgc, imgc, mask=bigedges)"
   ]
  },
  {
   "cell_type": "code",
   "execution_count": 16,
   "id": "c641483e",
   "metadata": {},
   "outputs": [],
   "source": [
    "TINT_COLOR = (0, 0, 0)  # Black\n",
    "OPACITY = int(255 * 0.75)\n",
    "FONT = ImageFont.truetype(\"SourceSansPro.ttf\", 24) # Font\n",
    "IMG_BASE_WIDTH = 600\n",
    "IMG_NUMBERS = 47\n",
    "\n",
    "def convert_from_cv2_to_image(img: np.ndarray) -> Image:\n",
    "    return Image.fromarray(cv2.cvtColor(img, cv2.COLOR_BGR2RGB))\n",
    "    #return Image.fromarray(img)\n",
    "\n",
    "def convert_from_image_to_cv2(img: Image) -> np.ndarray:\n",
    "    return cv2.cvtColor(np.array(img), cv2.COLOR_RGB2BGR)\n",
    "    #return np.asarray(img)"
   ]
  },
  {
   "cell_type": "code",
   "execution_count": 17,
   "id": "2795aea8",
   "metadata": {},
   "outputs": [],
   "source": [
    "def cartoonizeblt_mem_nb(path_in, k, blur, line, text, nlines=1, font='English'):\n",
    "    \n",
    "    imgc = imgcompress_mem(path_in, k)\n",
    "\n",
    "    line_size = line\n",
    "    blur_value = blur\n",
    "    gray = cv2.cvtColor(imgc, cv2.COLOR_BGR2GRAY)\n",
    "    gray_blur = cv2.medianBlur(gray, blur_value)\n",
    "    bigedges = cv2.adaptiveThreshold(gray_blur, 255, cv2.ADAPTIVE_THRESH_MEAN_C, cv2.THRESH_BINARY, line_size, blur_value)\n",
    "    bigedges_pil = cv2.cvtColor(bigedges, cv2.COLOR_BGR2RGB) # Converting BGR to RGB\n",
    "\n",
    "    toon = cv2.bitwise_and(imgc, imgc, mask=bigedges)\n",
    "    if 0 == len(text):\n",
    "        return toon\n",
    "    \n",
    "    myfont = (\n",
    "        ImageFont.truetype(\"SourceSansPro.ttf\", \n",
    "            24 if k == 16 else 18 if k == 14 else 18 if k == 12 else 20 if k == 8 else 82) if font=='English'\n",
    "        else\n",
    "            ImageFont.truetype(\"Aparajita.ttf\", \n",
    "                24 if k == 16 else 18 if k == 14 else 18 if k == 12 else 20 if k == 8 else 82) if font=='Hindi'\n",
    "        else\n",
    "            ImageFont.truetype(font + \".ttf\", 24 if k == 16 else 18 if k == 14 else 18 if k == 12 else 20 if k == 8 else 82)\n",
    "    )\n",
    "\n",
    "\n",
    "    cblimg_pil = Image.fromarray(cv2.cvtColor(toon, cv2.COLOR_BGR2RGBA))\n",
    "\n",
    "    overlay = Image.new('RGBA', cblimg_pil.size, TINT_COLOR+(1,))\n",
    "    draw = ImageDraw.Draw(overlay)\n",
    "    #_, h = FONT.getsize(text)\n",
    "    _, h = myfont.getsize(text)\n",
    "    num_lines = nlines\n",
    "    n=50\n",
    "    if(font=='Hindi'):\n",
    "        n=30\n",
    "    #Checking the text length and deciding the number of lines\n",
    "    if(len(text)>(n*2)):\n",
    "        num_lines =3\n",
    "        chunks = [text[i:i+n] for i in range(0, len(text), n)]\n",
    "    elif(len(text)>n):\n",
    "        num_lines =2\n",
    "        chunks = [text[i:i+n] for i in range(0, len(text), n)]\n",
    "        \n",
    "    if(num_lines==1):\n",
    "        x, y = 0, cblimg_pil.height - (num_lines)*h-10\n",
    "        draw.rectangle((x, y, x + cblimg_pil.width, y + (num_lines)*h+10), fill=TINT_COLOR+(OPACITY,))\n",
    "        if k == 1:\n",
    "            draw.text((x+10, y), text, fill=(248,248,248), font=myfont) #, stroke_width=1)\n",
    "        elif k < 8:\n",
    "            draw.text((x+10, y), text, fill=(248,248,248), font=myfont)\n",
    "        else:\n",
    "            draw.text((x+10, y), text, fill=(248,248,248), font=myfont) #, stroke_width=1)\n",
    "   \n",
    "    #iterating and printing each line\n",
    "    else:\n",
    "        x, y = 0, cblimg_pil.height - (num_lines)*h-10\n",
    "        draw.rectangle((x, y, x + cblimg_pil.width, y + (num_lines)*h+10), fill=TINT_COLOR+(OPACITY,))\n",
    "        for i in range(0,len(chunks)):      \n",
    "            if k == 1:\n",
    "                draw.text((x+10, y), chunks[i], fill=(248,248,248), font=myfont) #, stroke_width=1)\n",
    "            elif k < 8:\n",
    "                draw.text((x+10, y), chunks[i], fill=(248,248,248), font=myfont)\n",
    "            else:\n",
    "                draw.text((x+10, y), chunks[i], fill=(248,248,248), font=myfont) #, stroke_width=1)\n",
    "            y=y+15\n",
    "\n",
    "    cblimg_pil = Image.alpha_composite(cblimg_pil, overlay)\n",
    "    cblimg_pil = cblimg_pil.convert(\"RGB\")\n",
    "    \n",
    "    return convert_from_image_to_cv2(cblimg_pil)\n"
   ]
  },
  {
   "cell_type": "code",
   "execution_count": 18,
   "id": "118757e4",
   "metadata": {},
   "outputs": [],
   "source": [
    "#Adding Borders\n",
    "def borderImages(output_path):\n",
    "    for filename in (dirs):\n",
    "        if ('jpeg') in filename.lower():\n",
    "            ImageOps.expand(Image.open(fullpath+filename), border=(10,10),fill='white').save(output_path+filename)\n",
    "            ImageOps.expand(Image.open(output_path+filename), border=(10,10),fill='black').save(output_path+filename)"
   ]
  },
  {
   "cell_type": "code",
   "execution_count": 19,
   "id": "8303a468",
   "metadata": {},
   "outputs": [],
   "source": [
    "borderedImgPath =  path+\"BorderedImage/\""
   ]
  },
  {
   "cell_type": "code",
   "execution_count": 20,
   "id": "2dc1afd3",
   "metadata": {},
   "outputs": [
    {
     "data": {
      "text/html": [
       "<div>\n",
       "<style scoped>\n",
       "    .dataframe tbody tr th:only-of-type {\n",
       "        vertical-align: middle;\n",
       "    }\n",
       "\n",
       "    .dataframe tbody tr th {\n",
       "        vertical-align: top;\n",
       "    }\n",
       "\n",
       "    .dataframe thead th {\n",
       "        text-align: right;\n",
       "    }\n",
       "</style>\n",
       "<table border=\"1\" class=\"dataframe\">\n",
       "  <thead>\n",
       "    <tr style=\"text-align: right;\">\n",
       "      <th></th>\n",
       "      <th>English</th>\n",
       "      <th>Hindi</th>\n",
       "    </tr>\n",
       "  </thead>\n",
       "  <tbody>\n",
       "    <tr>\n",
       "      <th>0</th>\n",
       "      <td>.</td>\n",
       "      <td>.</td>\n",
       "    </tr>\n",
       "    <tr>\n",
       "      <th>1</th>\n",
       "      <td>.</td>\n",
       "      <td>.</td>\n",
       "    </tr>\n",
       "    <tr>\n",
       "      <th>2</th>\n",
       "      <td>Andi: Helen's idea is great, let's tweak it a ...</td>\n",
       "      <td>एंडी: हेलेन का विचार महान है, चलो इसे थोड़ा ट्...</td>\n",
       "    </tr>\n",
       "    <tr>\n",
       "      <th>3</th>\n",
       "      <td>Inauguration of \"Paws Play\"</td>\n",
       "      <td>\"पंजे खेल\" का उद्घाटन</td>\n",
       "    </tr>\n",
       "    <tr>\n",
       "      <th>4</th>\n",
       "      <td>.</td>\n",
       "      <td>.</td>\n",
       "    </tr>\n",
       "    <tr>\n",
       "      <th>...</th>\n",
       "      <td>...</td>\n",
       "      <td>...</td>\n",
       "    </tr>\n",
       "    <tr>\n",
       "      <th>66</th>\n",
       "      <td>Detective Blanc finally got to the bottom of t...</td>\n",
       "      <td>डिटेक्टिव ब्लैंक आखिरकार हत्या के मामले में सब...</td>\n",
       "    </tr>\n",
       "    <tr>\n",
       "      <th>67</th>\n",
       "      <td>.</td>\n",
       "      <td>।</td>\n",
       "    </tr>\n",
       "    <tr>\n",
       "      <th>68</th>\n",
       "      <td>Miles gets a message</td>\n",
       "      <td>माइल्स को एक संदेश मिलता है</td>\n",
       "    </tr>\n",
       "    <tr>\n",
       "      <th>69</th>\n",
       "      <td>Miles is feeling upset and angry.</td>\n",
       "      <td>माइल्स परेशान और गुस्से में महसूस कर रहे हैं।</td>\n",
       "    </tr>\n",
       "    <tr>\n",
       "      <th>70</th>\n",
       "      <td>THE END</td>\n",
       "      <td>समाप्त</td>\n",
       "    </tr>\n",
       "  </tbody>\n",
       "</table>\n",
       "<p>71 rows × 2 columns</p>\n",
       "</div>"
      ],
      "text/plain": [
       "                                              English  \\\n",
       "0                                                   .   \n",
       "1                                                   .   \n",
       "2   Andi: Helen's idea is great, let's tweak it a ...   \n",
       "3                         Inauguration of \"Paws Play\"   \n",
       "4                                                   .   \n",
       "..                                                ...   \n",
       "66  Detective Blanc finally got to the bottom of t...   \n",
       "67                                                  .   \n",
       "68                               Miles gets a message   \n",
       "69                  Miles is feeling upset and angry.   \n",
       "70                                            THE END   \n",
       "\n",
       "                                                Hindi  \n",
       "0                                                   .  \n",
       "1                                                   .  \n",
       "2   एंडी: हेलेन का विचार महान है, चलो इसे थोड़ा ट्...  \n",
       "3                               \"पंजे खेल\" का उद्घाटन  \n",
       "4                                                   .  \n",
       "..                                                ...  \n",
       "66  डिटेक्टिव ब्लैंक आखिरकार हत्या के मामले में सब...  \n",
       "67                                                  ।  \n",
       "68                        माइल्स को एक संदेश मिलता है  \n",
       "69      माइल्स परेशान और गुस्से में महसूस कर रहे हैं।  \n",
       "70                                             समाप्त  \n",
       "\n",
       "[71 rows x 2 columns]"
      ]
     },
     "execution_count": 20,
     "metadata": {},
     "output_type": "execute_result"
    }
   ],
   "source": [
    "#load the dialogues from the excel sheet\n",
    "dialogues = pd.read_excel('GK - Scenes.xlsx')\n",
    "dialogues #contains dialogues in english and the secondary language"
   ]
  },
  {
   "cell_type": "code",
   "execution_count": 21,
   "id": "af4338a0",
   "metadata": {},
   "outputs": [],
   "source": [
    "def addDialogues():\n",
    "    for i in range(70):\n",
    "        text = dialogues.values[i][0]\n",
    "        cblimg = cartoonizeblt_mem_nb('BorderedImage/' + str(i) + '.jpeg', 14, 1, 3, text, 1, 'English')\n",
    "        cblimg_pil = cv2.cvtColor(cblimg, cv2.COLOR_BGR2RGB)\n",
    "        img = (Image.fromarray(cblimg_pil))\n",
    "        img.save(f'images-comic/{i}.jpg')"
   ]
  },
  {
   "cell_type": "code",
   "execution_count": 22,
   "id": "b9ed8a68",
   "metadata": {},
   "outputs": [],
   "source": [
    "def addDialogueshindi():\n",
    "    for i in range(70):\n",
    "        text = dialogues.values[i][1]\n",
    "        cblimg = cartoonizeblt_mem_nb('BorderedImage/' + str(i) + '.jpeg', 14, 1, 3, text, 1, 'Hindi')\n",
    "        cblimg_pil = cv2.cvtColor(cblimg, cv2.COLOR_BGR2RGB)\n",
    "        img = (Image.fromarray(cblimg_pil))\n",
    "        img.save(f'images-comic-hindi/{i}.jpg')"
   ]
  },
  {
   "cell_type": "code",
   "execution_count": 23,
   "id": "dbdb9409",
   "metadata": {},
   "outputs": [],
   "source": [
    "def HorVerStitching():\n",
    "    image_names=[f'images-comic/{i}.jpg' for i in range(0,70)]\n",
    "    h_strip=image_names[0:70]\n",
    "    k=0\n",
    "    for i in range(7):\n",
    "        sub_hstrip=[]\n",
    "        sub_hstrip.append(h_strip[i*10:i*10+3]) #3 images\n",
    "        sub_hstrip.append(h_strip[i*10+3:i*10+7]) #4 images\n",
    "        sub_hstrip.append(h_strip[i*10+7:i*10+10]) # 3 images\n",
    "        for j in range(3):\n",
    "            imgs=[ pili.open(i) for i in sub_hstrip[j] ]\n",
    "            min_shape = sorted( [(np.sum(i.size), i.size ) for i in imgs])[0][1]\n",
    "            imgs_comb = np.hstack( (np.asarray( i.resize(min_shape) ) for i in imgs ) )\n",
    "            imgs_comb = pili.fromarray(imgs_comb)\n",
    "            imgs_comb.save(f'images-hstrips/{k}.jpg')\n",
    "            k+=1\n",
    "    #now performing verticalling stitching \n",
    "    strip_names = [f'images-hstrips/{i}.jpg' for i in range(k)]\n",
    "    for i in range(7):\n",
    "        imgs=[ pili.open(i) for i in strip_names[i*3:i*3+3]]\n",
    "        min_shape = sorted([(np.sum(i.size),i.size) for i in imgs])[0][1]\n",
    "        imgs_comb = np.vstack((np.asarray(i.resize(min_shape)) for i in imgs))\n",
    "        imgs_comb = pili.fromarray( imgs_comb)\n",
    "        imgs_comb.save(f'images-vstrips/{i}.jpg')"
   ]
  },
  {
   "cell_type": "code",
   "execution_count": 24,
   "id": "f0183f6f",
   "metadata": {},
   "outputs": [],
   "source": [
    "def HorVerStitchinghindi():\n",
    "    image_names=[f'images-comic-hindi/{i}.jpg' for i in range(0,70)]\n",
    "    h_strip=image_names[0:70]\n",
    "    k=0\n",
    "    for i in range(7):\n",
    "        sub_hstrip=[]\n",
    "        sub_hstrip.append(h_strip[i*10:i*10+3]) #3 images\n",
    "        sub_hstrip.append(h_strip[i*10+3:i*10+7]) #4 images\n",
    "        sub_hstrip.append(h_strip[i*10+7:i*10+10]) # 3 images\n",
    "        for j in range(3):\n",
    "            imgs=[ pili.open(i) for i in sub_hstrip[j] ]\n",
    "            min_shape = sorted( [(np.sum(i.size), i.size ) for i in imgs])[0][1]\n",
    "            imgs_comb = np.hstack( (np.asarray( i.resize(min_shape) ) for i in imgs ) )\n",
    "            imgs_comb = pili.fromarray(imgs_comb)\n",
    "            imgs_comb.save(f'images-hstrips-hindi/{k}.jpg')\n",
    "            k+=1\n",
    "    #now performing verticalling stitching \n",
    "    strip_names = [f'images-hstrips-hindi/{i}.jpg' for i in range(k)]\n",
    "    for i in range(7):\n",
    "        imgs=[ pili.open(i) for i in strip_names[i*3:i*3+3]]\n",
    "        min_shape = sorted([(np.sum(i.size),i.size) for i in imgs])[0][1]\n",
    "        imgs_comb = np.vstack((np.asarray(i.resize(min_shape)) for i in imgs))\n",
    "        imgs_comb = pili.fromarray( imgs_comb)\n",
    "        imgs_comb.save(f'images-vstrips-hindi/{i}.jpg')"
   ]
  },
  {
   "cell_type": "code",
   "execution_count": 30,
   "id": "1044b93a",
   "metadata": {},
   "outputs": [],
   "source": [
    "def MakePDF():    \n",
    "    cover = pili.open('images-vstrips/00.jpg')\n",
    "    width, height = cover.size\n",
    "    pdf = FPDF(unit = \"pt\", format = [width, height])\n",
    "    pdf.add_page()\n",
    "    pdf.image('images-vstrips/00.jpg', 0, 0, width, height)\n",
    "    file=0\n",
    "    \n",
    "    image_list = [f'images-vstrips/{i}.jpg' for i in range(7)] #image_list is the list with all image filenames\n",
    "\n",
    "    for image in image_list:\n",
    "        pdf.add_page()\n",
    "        pdf.image(image, 0, 0, width, height)\n",
    "    pdf.output(\"ComicInEnglish.pdf\", \"F\")\n",
    "    print(\"Created comic in english- Enjoy reading the comic!\")"
   ]
  },
  {
   "cell_type": "code",
   "execution_count": 33,
   "id": "7fbb1015",
   "metadata": {},
   "outputs": [],
   "source": [
    "def MakePDFhindi():    \n",
    "    cover = pili.open('images-vstrips/00.jpg')\n",
    "    width, height = cover.size\n",
    "    pdf = FPDF(unit = \"pt\", format = [width, height])\n",
    "    pdf.add_page()\n",
    "    pdf.image('images-vstrips/00.jpg', 0, 0, width, height)\n",
    "    file=0\n",
    "    \n",
    "    image_list = [f'images-vstrips-hindi/{i}.jpg' for i in range(7)] #image_list is the list with all image filenames\n",
    "\n",
    "    for image in image_list:\n",
    "        pdf.add_page()\n",
    "        pdf.image(image, 0, 0, width, height)\n",
    "    pdf.output(\"ComicInHindi.pdf\", \"F\")\n",
    "    print(\"Created comic in Hindi- Enjoy reading the comic!\")"
   ]
  },
  {
   "cell_type": "code",
   "execution_count": 32,
   "id": "df456b0a",
   "metadata": {},
   "outputs": [
    {
     "name": "stderr",
     "output_type": "stream",
     "text": [
      "/var/folders/vv/cbgwbmv57tlf1xzhsdbdw0lm0000gn/T/ipykernel_63769/2277992392.py:13: FutureWarning: arrays to stack must be passed as a \"sequence\" type such as list or tuple. Support for non-sequence iterables such as generators is deprecated as of NumPy 1.16 and will raise an error in the future.\n",
      "  imgs_comb = np.hstack( (np.asarray( i.resize(min_shape) ) for i in imgs ) )\n",
      "/var/folders/vv/cbgwbmv57tlf1xzhsdbdw0lm0000gn/T/ipykernel_63769/2277992392.py:22: FutureWarning: arrays to stack must be passed as a \"sequence\" type such as list or tuple. Support for non-sequence iterables such as generators is deprecated as of NumPy 1.16 and will raise an error in the future.\n",
      "  imgs_comb = np.vstack((np.asarray(i.resize(min_shape)) for i in imgs))\n"
     ]
    },
    {
     "name": "stdout",
     "output_type": "stream",
     "text": [
      "Created comic in english- Enjoy reading the comic!\n"
     ]
    }
   ],
   "source": [
    "resize()\n",
    "borderImages(borderedImgPath)\n",
    "addDialogues()\n",
    "HorVerStitching()\n",
    "MakePDF()"
   ]
  },
  {
   "cell_type": "code",
   "execution_count": 34,
   "id": "589fb988",
   "metadata": {},
   "outputs": [
    {
     "name": "stderr",
     "output_type": "stream",
     "text": [
      "/var/folders/vv/cbgwbmv57tlf1xzhsdbdw0lm0000gn/T/ipykernel_63769/1364805212.py:13: FutureWarning: arrays to stack must be passed as a \"sequence\" type such as list or tuple. Support for non-sequence iterables such as generators is deprecated as of NumPy 1.16 and will raise an error in the future.\n",
      "  imgs_comb = np.hstack( (np.asarray( i.resize(min_shape) ) for i in imgs ) )\n",
      "/var/folders/vv/cbgwbmv57tlf1xzhsdbdw0lm0000gn/T/ipykernel_63769/1364805212.py:22: FutureWarning: arrays to stack must be passed as a \"sequence\" type such as list or tuple. Support for non-sequence iterables such as generators is deprecated as of NumPy 1.16 and will raise an error in the future.\n",
      "  imgs_comb = np.vstack((np.asarray(i.resize(min_shape)) for i in imgs))\n"
     ]
    },
    {
     "name": "stdout",
     "output_type": "stream",
     "text": [
      "Created comic in Hindi- Enjoy reading the comic!\n"
     ]
    }
   ],
   "source": [
    "resize()\n",
    "borderImages(borderedImgPath)\n",
    "addDialogueshindi()\n",
    "HorVerStitchinghindi()\n",
    "MakePDFhindi()"
   ]
  },
  {
   "cell_type": "code",
   "execution_count": null,
   "id": "e686c33f",
   "metadata": {},
   "outputs": [],
   "source": []
  }
 ],
 "metadata": {
  "kernelspec": {
   "display_name": "Python 3 (ipykernel)",
   "language": "python",
   "name": "python3"
  },
  "language_info": {
   "codemirror_mode": {
    "name": "ipython",
    "version": 3
   },
   "file_extension": ".py",
   "mimetype": "text/x-python",
   "name": "python",
   "nbconvert_exporter": "python",
   "pygments_lexer": "ipython3",
   "version": "3.9.7"
  }
 },
 "nbformat": 4,
 "nbformat_minor": 5
}
